{
  "nbformat": 4,
  "nbformat_minor": 0,
  "metadata": {
    "colab": {
      "provenance": [],
      "name": "DLI Group Assignment.ipynb",
      "authorship_tag": "ABX9TyO3lgN5IyA+LAR4FUBPTjIz",
      "include_colab_link": true
    },
    "kernelspec": {
      "name": "python3",
      "display_name": "Python 3"
    },
    "language_info": {
      "name": "python"
    }
  },
  "cells": [
    {
      "cell_type": "markdown",
      "metadata": {
        "id": "view-in-github",
        "colab_type": "text"
      },
      "source": [
        "<a href=\"https://colab.research.google.com/github/lazarussim12-beep/DLI_GRP_Assignment/blob/main/DLI_Group_Assignment.ipynb\" target=\"_parent\"><img src=\"https://colab.research.google.com/assets/colab-badge.svg\" alt=\"Open In Colab\"/></a>"
      ]
    },
    {
      "cell_type": "markdown",
      "source": [
        "# Lazarus Sim Wen Hui Code\n"
      ],
      "metadata": {
        "id": "eApsbeqEleAL"
      }
    },
    {
      "cell_type": "code",
      "execution_count": 1,
      "metadata": {
        "id": "bYwDRyDalX2m",
        "colab": {
          "base_uri": "https://localhost:8080/"
        },
        "outputId": "3f7cc856-08ce-455a-f3a5-2561cba64441"
      },
      "outputs": [
        {
          "output_type": "stream",
          "name": "stdout",
          "text": [
            "hello world\n"
          ]
        }
      ],
      "source": [
        "print (\"hello world\")"
      ]
    },
    {
      "cell_type": "code",
      "source": [
        "print (\"hello world\")"
      ],
      "metadata": {
        "id": "gT__pYOxlgl9"
      },
      "execution_count": null,
      "outputs": []
    },
    {
      "cell_type": "markdown",
      "source": [
        "# Khoo Zi Ming Code"
      ],
      "metadata": {
        "id": "Yw7EuGVslezs"
      }
    },
    {
      "cell_type": "code",
      "source": [],
      "metadata": {
        "id": "ghINCy_AluZZ"
      },
      "execution_count": null,
      "outputs": []
    },
    {
      "cell_type": "code",
      "source": [],
      "metadata": {
        "id": "JobXtKajlsYJ"
      },
      "execution_count": null,
      "outputs": []
    },
    {
      "cell_type": "markdown",
      "source": [
        "# Lee Jing Wei Code"
      ],
      "metadata": {
        "id": "5xoJOxPjlfFu"
      }
    },
    {
      "cell_type": "code",
      "source": [],
      "metadata": {
        "id": "eq8yBGBnl21e"
      },
      "execution_count": null,
      "outputs": []
    },
    {
      "cell_type": "code",
      "source": [],
      "metadata": {
        "id": "jLvHJU2yl2pj"
      },
      "execution_count": null,
      "outputs": []
    },
    {
      "cell_type": "markdown",
      "source": [
        "# Ahmad Code\n"
      ],
      "metadata": {
        "id": "UF3xheW0l1_Q"
      }
    },
    {
      "cell_type": "code",
      "source": [],
      "metadata": {
        "id": "zrdoQPFnl6RD"
      },
      "execution_count": null,
      "outputs": []
    },
    {
      "cell_type": "code",
      "source": [],
      "metadata": {
        "id": "Vic7n3iGl6G6"
      },
      "execution_count": null,
      "outputs": []
    },
    {
      "cell_type": "markdown",
      "source": [
        "# Comparison and Graph"
      ],
      "metadata": {
        "id": "fbWlZufQmDUP"
      }
    },
    {
      "cell_type": "code",
      "source": [],
      "metadata": {
        "id": "SoRATA3VluC3"
      },
      "execution_count": null,
      "outputs": []
    },
    {
      "cell_type": "code",
      "source": [],
      "metadata": {
        "id": "7Vue9oIPltg8"
      },
      "execution_count": null,
      "outputs": []
    }
  ]
}