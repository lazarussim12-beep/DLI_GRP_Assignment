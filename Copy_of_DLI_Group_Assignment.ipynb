{
  "nbformat": 4,
  "nbformat_minor": 0,
  "metadata": {
    "colab": {
      "provenance": [],
      "toc_visible": true,
      "include_colab_link": true
    },
    "kernelspec": {
      "name": "python3",
      "display_name": "Python 3"
    },
    "language_info": {
      "name": "python"
    }
  },
  "cells": [
    {
      "cell_type": "markdown",
      "metadata": {
        "id": "view-in-github",
        "colab_type": "text"
      },
      "source": [
        "<a href=\"https://colab.research.google.com/github/lazarussim12-beep/DLI_GRP_Assignment/blob/main/Copy_of_DLI_Group_Assignment.ipynb\" target=\"_parent\"><img src=\"https://colab.research.google.com/assets/colab-badge.svg\" alt=\"Open In Colab\"/></a>"
      ]
    },
    {
      "cell_type": "markdown",
      "source": [
        "# Install and import all required library\n"
      ],
      "metadata": {
        "id": "6eZL8UCOzT7x"
      }
    },
    {
      "cell_type": "markdown",
      "source": [
        "# Import Dataset\n"
      ],
      "metadata": {
        "id": "gMB_-wpOsjG8"
      }
    },
    {
      "cell_type": "code",
      "source": [
        "# Download the zip file from GitHub\n",
        "!wget https://github.com/lazarussim12-beep/DLI_GRP_Assignment/raw/ecfaa17f2bf89a0e65e30e678d9dc03715c4e8d5/enron_spam_data.zip\n",
        "\n",
        "# Unzip the file\n",
        "import zipfile\n",
        "with zipfile.ZipFile('enron_spam_data.zip', 'r') as zip_ref:\n",
        "    zip_ref.extractall('enron_data')\n",
        "\n",
        "# List extracted files (to verify)\n",
        "import os\n",
        "extracted_files = os.listdir('enron_data')\n",
        "print(\"Extracted files:\", extracted_files)\n",
        "\n",
        "# Load the CSV file(s) into pandas\n",
        "import pandas as pd\n",
        "\n",
        "for file in extracted_files:\n",
        "    if file.endswith('.csv'):\n",
        "        df = pd.read_csv(f'enron_data/{file}')\n",
        "        print(f\"Loaded {file} with shape:\", df.shape)\n",
        "\n",
        "        # Display first few rows\n",
        "        display(df.head())\n",
        "\n",
        "        print(f\"\\nColumn names: {df.columns.tolist()}\")\n",
        "\n",
        "        # Calculate number of spam and ham in the Spam/Ham column\n",
        "        print(\"\\n=== SPAM vs HAM Analysis ===\")\n",
        "\n",
        "        spam_col = None\n",
        "        for col in df.columns:\n",
        "            if 'spam' in col.lower() or 'ham' in col.lower():\n",
        "                spam_col = col\n",
        "                break\n",
        "\n",
        "        if spam_col is None:\n",
        "            spam_col = df.columns[3] if len(df.columns) > 3 else df.columns[-1]\n",
        "\n",
        "        print(f\"Using column: '{spam_col}'\")\n",
        "\n",
        "        # Count values in the spam/ham column\n",
        "        spam_ham_counts = df[spam_col].value_counts()\n",
        "        print(\"Counts by category:\")\n",
        "        print(spam_ham_counts)\n",
        "\n",
        "        # Calculate percentages\n",
        "        spam_ham_percentages = df[spam_col].value_counts(normalize=True) * 100\n",
        "        print(\"==========================\")\n",
        "        print(\"\\nPercentages by category:\")\n",
        "        for category, percentage in spam_ham_percentages.items():\n",
        "            print(f\"{category}: {percentage:.2f}%\")\n",
        "\n",
        "        # More detailed analysis\n",
        "        total_emails = len(df)\n",
        "        print(\"==========================\")\n",
        "        print(f\"\\nDetailed Analysis:\")\n",
        "        print(f\"Total emails: {total_emails}\")\n",
        "\n",
        "        for category in df[spam_col].unique():\n",
        "            count = (df[spam_col] == category).sum()\n",
        "            percentage = (count / total_emails) * 100\n",
        "            print(f\"{category}: {count} emails ({percentage:.2f}%)\")\n",
        "\n",
        "        try:\n",
        "            import matplotlib.pyplot as plt\n",
        "\n",
        "            plt.figure(figsize=(8, 6))\n",
        "            spam_ham_counts.plot(kind='bar', color=['lightcoral', 'lightblue'])\n",
        "            plt.title('Distribution of Spam vs Ham Emails')\n",
        "            plt.xlabel('Email Type')\n",
        "            plt.ylabel('Count')\n",
        "            plt.xticks(rotation=0)\n",
        "            plt.tight_layout()\n",
        "            plt.show()\n",
        "\n",
        "        except ImportError:\n",
        "            print(\"\\nMatplotlib not available for visualization\")\n",
        "\n",
        "        break"
      ],
      "metadata": {
        "id": "tJ1XOvDKsmQa"
      },
      "execution_count": null,
      "outputs": []
    },
    {
      "cell_type": "markdown",
      "source": [
        "# Lazarus Sim Wen Hui Code\n"
      ],
      "metadata": {
        "id": "eApsbeqEleAL"
      }
    },
    {
      "cell_type": "code",
      "execution_count": null,
      "metadata": {
        "id": "bYwDRyDalX2m"
      },
      "outputs": [],
      "source": [
        "import os\n",
        "import pandas as pd\n",
        "import numpy as np\n",
        "import re\n",
        "from sklearn.model_selection import train_test_split\n",
        "from sklearn.feature_extraction.text import TfidfVectorizer\n",
        "from sklearn.svm import SVC\n",
        "from sklearn.metrics import classification_report, accuracy_score\n",
        "from tensorflow.keras.preprocessing.text import Tokenizer\n",
        "from tensorflow.keras.preprocessing.sequence import pad_sequences\n",
        "from tensorflow.keras.models import Sequential\n",
        "from tensorflow.keras.layers import Embedding, LSTM, Dense, Dropout, Conv1D, GlobalMaxPooling1D\n",
        "from tensorflow.keras.utils import to_categorical"
      ]
    },
    {
      "cell_type": "code",
      "source": [],
      "metadata": {
        "id": "gT__pYOxlgl9"
      },
      "execution_count": null,
      "outputs": []
    },
    {
      "cell_type": "markdown",
      "source": [
        "# Khoo Zi Ming Code"
      ],
      "metadata": {
        "id": "Yw7EuGVslezs"
      }
    },
    {
      "cell_type": "code",
      "source": [],
      "metadata": {
        "id": "ghINCy_AluZZ"
      },
      "execution_count": null,
      "outputs": []
    },
    {
      "cell_type": "code",
      "source": [],
      "metadata": {
        "id": "JobXtKajlsYJ"
      },
      "execution_count": null,
      "outputs": []
    },
    {
      "cell_type": "markdown",
      "source": [
        "# Lee Jing Wei Code"
      ],
      "metadata": {
        "id": "5xoJOxPjlfFu"
      }
    },
    {
      "cell_type": "code",
      "source": [
        "print(\"test_1\")"
      ],
      "metadata": {
        "id": "eq8yBGBnl21e"
      },
      "execution_count": null,
      "outputs": []
    },
    {
      "cell_type": "code",
      "source": [],
      "metadata": {
        "id": "jLvHJU2yl2pj"
      },
      "execution_count": null,
      "outputs": []
    },
    {
      "cell_type": "markdown",
      "source": [
        "# Ahmad Code\n"
      ],
      "metadata": {
        "id": "UF3xheW0l1_Q"
      }
    },
    {
      "cell_type": "code",
      "source": [],
      "metadata": {
        "id": "zrdoQPFnl6RD"
      },
      "execution_count": null,
      "outputs": []
    },
    {
      "cell_type": "code",
      "source": [],
      "metadata": {
        "id": "Vic7n3iGl6G6"
      },
      "execution_count": null,
      "outputs": []
    },
    {
      "cell_type": "markdown",
      "source": [
        "# Comparison and Graph"
      ],
      "metadata": {
        "id": "fbWlZufQmDUP"
      }
    },
    {
      "cell_type": "code",
      "source": [],
      "metadata": {
        "id": "SoRATA3VluC3"
      },
      "execution_count": null,
      "outputs": []
    },
    {
      "cell_type": "code",
      "source": [],
      "metadata": {
        "id": "7Vue9oIPltg8"
      },
      "execution_count": null,
      "outputs": []
    }
  ]
}